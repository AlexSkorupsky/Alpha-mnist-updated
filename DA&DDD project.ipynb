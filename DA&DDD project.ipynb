{
 "cells": [
  {
   "cell_type": "code",
   "execution_count": 161,
   "metadata": {},
   "outputs": [],
   "source": [
    "import pickle\n",
    "import gzip\n",
    "import numpy as np\n",
    "import random\n",
    "import matplotlib.pyplot as plt\n",
    "import pandas as pd"
   ]
  },
  {
   "cell_type": "markdown",
   "metadata": {},
   "source": [
    "The MNIST database was constructed from NIST's Special Database 3 and Special Database 1 which contain binary images of handwritten digits. SD-3 was collected among Census Bureau employees, while SD-1 was collected among high-school students.\n",
    "\n",
    "The MNIST training set is composed of ``30 000`` patterns from SD-3 and ``30 000`` patterns from SD-1. The test set was composed of ``5 000`` patterns from SD-3 and ``5 000`` patterns from SD-1. The ``60 000`` pattern training set contained examples from approximately ``250`` writers. The writers of the training set and test set were disjoint.\n",
    "\n",
    "The MNIST dataset contains images presented in efficient way in numpy ndarrays with ``28 * 28 = 784`` pixels in a single MNIST image. The dataset contains images of handwritten digits. So, the domain is 10 digits ``[0...9]``"
   ]
  },
  {
   "cell_type": "code",
   "execution_count": 162,
   "metadata": {},
   "outputs": [],
   "source": [
    "class_names = ['0', '1', '2', '3', '4', '5', '6', '7', '8', '9']"
   ]
  },
  {
   "cell_type": "markdown",
   "metadata": {},
   "source": [
    "Downloading the MNIST data as a tuple containing the training data, the validation data, and the test data.\n",
    "\n",
    "The ``tr_d`` is returned as a tuple with two entries.\n",
    "The first entry contains the actual training images.  This is a numpy ndarray with 50,000 entries. \n",
    "\n",
    "The second entry in the ``tr_d`` tuple is a numpy ndarray containing 50,000 entries. Those entries are just the digit values ``[0...9]`` for the corresponding images contained in the first entry of the tuple.\n",
    "\n",
    "The ``te_d`` is similar, except it contains only 10,000 images."
   ]
  },
  {
   "cell_type": "code",
   "execution_count": 163,
   "metadata": {},
   "outputs": [],
   "source": [
    "f = gzip.open('data/mnist.pkl.gz', 'rb')\n",
    "u = pickle._Unpickler(f)\n",
    "u.encoding = 'latin1'\n",
    "tr_d, va_d, te_d = u.load()\n",
    "f.close()"
   ]
  },
  {
   "cell_type": "markdown",
   "metadata": {},
   "source": [
    "For using in neural networks it's helpful to modify the format of the ``training_outputs``(labels) a little.\n",
    "\n",
    "``Example:``\n",
    "<br>\n",
    "- ``input: 3``\n",
    "<br>\n",
    "- ``output: [0, 0, 0, 1, 0, 0, 0, 0, 0, 0]``"
   ]
  },
  {
   "cell_type": "code",
   "execution_count": 164,
   "metadata": {},
   "outputs": [],
   "source": [
    "def vector_output(j):\n",
    "    e = np.zeros((10, 1))\n",
    "    e[j] = 1.0\n",
    "    return e"
   ]
  },
  {
   "cell_type": "markdown",
   "metadata": {},
   "source": [
    "Reshaping into the format, which is more convenient for use in a neural network.\n",
    "\n",
    "The ``training_data`` is a list containing 50,000 2-tuples ``(x, y)``. ``x`` is a 784-dimensional numpy.ndarray containing the input image. ``y`` is a 10-dimensional numpy.ndarray representing the unit vector corresponding to the correct digit for ``x``.\n",
    "\n",
    "``test_data`` is a lists containing 10,000 2-tuples ``(x, y)``.  In each case, ``x`` is a 784-dimensional numpy.ndarry containing the input image, and ``y`` is the corresponding classification, i.e., the digit values (integers) corresponding to ``x``."
   ]
  },
  {
   "cell_type": "code",
   "execution_count": 165,
   "metadata": {},
   "outputs": [],
   "source": [
    "training_inputs = [np.reshape(x, (784, 1)) for x in tr_d[0]]\n",
    "training_outputs = [vector_output(y) for y in tr_d[1]]\n",
    "training_data = list(zip(training_inputs, training_outputs))\n",
    "\n",
    "test_inputs = [np.reshape(x, (784, 1)) for x in te_d[0]]\n",
    "test_data = list(zip(test_inputs, te_d[1]))"
   ]
  },
  {
   "cell_type": "markdown",
   "metadata": {},
   "source": [
    "Real format of data of, for example, the second \"image\" in the trining set."
   ]
  },
  {
   "cell_type": "code",
   "execution_count": 166,
   "metadata": {},
   "outputs": [
    {
     "name": "stdout",
     "output_type": "stream",
     "text": [
      "[[0.         0.         0.         0.         0.         0.\n",
      "  0.         0.         0.         0.         0.         0.\n",
      "  0.         0.         0.         0.         0.         0.\n",
      "  0.         0.         0.         0.         0.         0.\n",
      "  0.         0.         0.         0.        ]\n",
      " [0.         0.         0.         0.         0.         0.\n",
      "  0.         0.         0.         0.         0.         0.\n",
      "  0.         0.         0.         0.         0.         0.\n",
      "  0.         0.         0.         0.         0.         0.\n",
      "  0.         0.         0.         0.        ]\n",
      " [0.         0.         0.         0.         0.         0.\n",
      "  0.         0.         0.         0.         0.         0.\n",
      "  0.         0.         0.         0.         0.         0.\n",
      "  0.         0.         0.         0.         0.         0.\n",
      "  0.         0.         0.         0.        ]\n",
      " [0.         0.         0.         0.         0.         0.\n",
      "  0.         0.         0.         0.         0.         0.\n",
      "  0.         0.         0.         0.         0.         0.\n",
      "  0.         0.         0.         0.         0.         0.\n",
      "  0.         0.         0.         0.        ]\n",
      " [0.         0.         0.         0.         0.         0.\n",
      "  0.         0.         0.         0.         0.         0.\n",
      "  0.         0.         0.         0.19921875 0.62109375 0.98828125\n",
      "  0.62109375 0.1953125  0.         0.         0.         0.\n",
      "  0.         0.         0.         0.        ]\n",
      " [0.         0.         0.         0.         0.         0.\n",
      "  0.         0.         0.         0.         0.         0.\n",
      "  0.         0.         0.1875     0.9296875  0.984375   0.984375\n",
      "  0.984375   0.92578125 0.         0.         0.         0.\n",
      "  0.         0.         0.         0.        ]\n",
      " [0.         0.         0.         0.         0.         0.\n",
      "  0.         0.         0.         0.         0.         0.\n",
      "  0.         0.2109375  0.88671875 0.98828125 0.984375   0.93359375\n",
      "  0.91015625 0.984375   0.22265625 0.0234375  0.         0.\n",
      "  0.         0.         0.         0.        ]\n",
      " [0.         0.         0.         0.         0.         0.\n",
      "  0.         0.         0.         0.         0.         0.0390625\n",
      "  0.234375   0.875      0.984375   0.98828125 0.984375   0.7890625\n",
      "  0.328125   0.984375   0.98828125 0.4765625  0.         0.\n",
      "  0.         0.         0.         0.        ]\n",
      " [0.         0.         0.         0.         0.         0.\n",
      "  0.         0.         0.         0.         0.         0.63671875\n",
      "  0.984375   0.984375   0.984375   0.98828125 0.984375   0.984375\n",
      "  0.375      0.73828125 0.98828125 0.65234375 0.         0.\n",
      "  0.         0.         0.         0.        ]\n",
      " [0.         0.         0.         0.         0.         0.\n",
      "  0.         0.         0.         0.         0.19921875 0.9296875\n",
      "  0.98828125 0.98828125 0.7421875  0.4453125  0.98828125 0.890625\n",
      "  0.18359375 0.30859375 0.99609375 0.65625    0.         0.\n",
      "  0.         0.         0.         0.        ]\n",
      " [0.         0.         0.         0.         0.         0.\n",
      "  0.         0.         0.         0.1875     0.9296875  0.984375\n",
      "  0.984375   0.69921875 0.046875   0.29296875 0.47265625 0.08203125\n",
      "  0.         0.         0.98828125 0.94921875 0.1953125  0.\n",
      "  0.         0.         0.         0.        ]\n",
      " [0.         0.         0.         0.         0.         0.\n",
      "  0.         0.         0.1484375  0.64453125 0.98828125 0.91015625\n",
      "  0.8125     0.328125   0.         0.         0.         0.\n",
      "  0.         0.         0.98828125 0.984375   0.64453125 0.\n",
      "  0.         0.         0.         0.        ]\n",
      " [0.         0.         0.         0.         0.         0.\n",
      "  0.         0.02734375 0.6953125  0.984375   0.9375     0.27734375\n",
      "  0.07421875 0.109375   0.         0.         0.         0.\n",
      "  0.         0.         0.98828125 0.984375   0.76171875 0.\n",
      "  0.         0.         0.         0.        ]\n",
      " [0.         0.         0.         0.         0.         0.\n",
      "  0.         0.22265625 0.984375   0.984375   0.24609375 0.\n",
      "  0.         0.         0.         0.         0.         0.\n",
      "  0.         0.         0.98828125 0.984375   0.76171875 0.\n",
      "  0.         0.         0.         0.        ]\n",
      " [0.         0.         0.         0.         0.         0.\n",
      "  0.         0.7734375  0.98828125 0.7421875  0.         0.\n",
      "  0.         0.         0.         0.         0.         0.\n",
      "  0.         0.         0.99609375 0.98828125 0.765625   0.\n",
      "  0.         0.         0.         0.        ]\n",
      " [0.         0.         0.         0.         0.         0.\n",
      "  0.296875   0.9609375  0.984375   0.4375     0.         0.\n",
      "  0.         0.         0.         0.         0.         0.\n",
      "  0.         0.         0.98828125 0.984375   0.578125   0.\n",
      "  0.         0.         0.         0.        ]\n",
      " [0.         0.         0.         0.         0.         0.\n",
      "  0.33203125 0.984375   0.8984375  0.09765625 0.         0.\n",
      "  0.         0.         0.         0.         0.         0.\n",
      "  0.02734375 0.52734375 0.98828125 0.7265625  0.046875   0.\n",
      "  0.         0.         0.         0.        ]\n",
      " [0.         0.         0.         0.         0.         0.\n",
      "  0.33203125 0.984375   0.87109375 0.         0.         0.\n",
      "  0.         0.         0.         0.         0.         0.02734375\n",
      "  0.51171875 0.984375   0.87890625 0.27734375 0.         0.\n",
      "  0.         0.         0.         0.        ]\n",
      " [0.         0.         0.         0.         0.         0.\n",
      "  0.33203125 0.984375   0.56640625 0.         0.         0.\n",
      "  0.         0.         0.         0.         0.1875     0.64453125\n",
      "  0.984375   0.67578125 0.         0.         0.         0.\n",
      "  0.         0.         0.         0.        ]\n",
      " [0.         0.         0.         0.         0.         0.\n",
      "  0.3359375  0.98828125 0.87890625 0.         0.         0.\n",
      "  0.         0.         0.         0.4453125  0.9296875  0.98828125\n",
      "  0.6328125  0.         0.         0.         0.         0.\n",
      "  0.         0.         0.         0.        ]\n",
      " [0.         0.         0.         0.         0.         0.\n",
      "  0.33203125 0.984375   0.97265625 0.5703125  0.1875     0.11328125\n",
      "  0.33203125 0.6953125  0.87890625 0.98828125 0.87109375 0.65234375\n",
      "  0.21875    0.         0.         0.         0.         0.\n",
      "  0.         0.         0.         0.        ]\n",
      " [0.         0.         0.         0.         0.         0.\n",
      "  0.33203125 0.984375   0.984375   0.984375   0.89453125 0.83984375\n",
      "  0.984375   0.984375   0.984375   0.765625   0.5078125  0.\n",
      "  0.         0.         0.         0.         0.         0.\n",
      "  0.         0.         0.         0.        ]\n",
      " [0.         0.         0.         0.         0.         0.\n",
      "  0.109375   0.77734375 0.984375   0.984375   0.98828125 0.984375\n",
      "  0.984375   0.91015625 0.56640625 0.         0.         0.\n",
      "  0.         0.         0.         0.         0.         0.\n",
      "  0.         0.         0.         0.        ]\n",
      " [0.         0.         0.         0.         0.         0.\n",
      "  0.         0.09765625 0.5        0.984375   0.98828125 0.984375\n",
      "  0.55078125 0.14453125 0.         0.         0.         0.\n",
      "  0.         0.         0.         0.         0.         0.\n",
      "  0.         0.         0.         0.        ]\n",
      " [0.         0.         0.         0.         0.         0.\n",
      "  0.         0.         0.         0.         0.         0.\n",
      "  0.         0.         0.         0.         0.         0.\n",
      "  0.         0.         0.         0.         0.         0.\n",
      "  0.         0.         0.         0.        ]\n",
      " [0.         0.         0.         0.         0.         0.\n",
      "  0.         0.         0.         0.         0.         0.\n",
      "  0.         0.         0.         0.         0.         0.\n",
      "  0.         0.         0.         0.         0.         0.\n",
      "  0.         0.         0.         0.        ]\n",
      " [0.         0.         0.         0.         0.         0.\n",
      "  0.         0.         0.         0.         0.         0.\n",
      "  0.         0.         0.         0.         0.         0.\n",
      "  0.         0.         0.         0.         0.         0.\n",
      "  0.         0.         0.         0.        ]\n",
      " [0.         0.         0.         0.         0.         0.\n",
      "  0.         0.         0.         0.         0.         0.\n",
      "  0.         0.         0.         0.         0.         0.\n",
      "  0.         0.         0.         0.         0.         0.\n",
      "  0.         0.         0.         0.        ]]\n"
     ]
    }
   ],
   "source": [
    "print(np.reshape(tr_d[0][1], (28, 28)))"
   ]
  },
  {
   "cell_type": "markdown",
   "metadata": {},
   "source": [
    "Plotting the second image from the training dataset.\n",
    "We can see this image is representing zero. "
   ]
  },
  {
   "cell_type": "code",
   "execution_count": 167,
   "metadata": {},
   "outputs": [
    {
     "data": {
      "image/png": "[encoded data removed]",
      "text/plain": [
       "<Figure size 432x288 with 2 Axes>"
      ]
     },
     "metadata": {
      "needs_background": "light"
     },
     "output_type": "display_data"
    }
   ],
   "source": [
    "plt.figure()\n",
    "plt.imshow(np.reshape(tr_d[0][1], (28, 28)), cmap=plt.cm.binary)\n",
    "plt.colorbar()\n",
    "plt.grid(False)\n",
    "plt.show()"
   ]
  },
  {
   "cell_type": "markdown",
   "metadata": {},
   "source": [
    "First ``25`` images from the training set and their labels"
   ]
  },
  {
   "cell_type": "code",
   "execution_count": 168,
   "metadata": {},
   "outputs": [
    {
     "data": {
      "image/png": "[encoded data removed]",
      "text/plain": [
       "<Figure size 720x720 with 25 Axes>"
      ]
     },
     "metadata": {},
     "output_type": "display_data"
    }
   ],
   "source": [
    "plt.figure(figsize=(10,10))\n",
    "\n",
    "for i in range(25):\n",
    "    plt.subplot(5,5,i+1)\n",
    "    plt.xticks([])\n",
    "    plt.yticks([])\n",
    "    plt.grid(False)\n",
    "    plt.imshow(np.reshape(tr_d[0][i], (28, 28)), cmap=plt.cm.binary)\n",
    "    plt.xlabel(class_names[tr_d[1][i]])\n",
    "    \n",
    "plt.show()"
   ]
  },
  {
   "cell_type": "markdown",
   "metadata": {},
   "source": [
    "Sigmoid activation function for normalization and it's derivative"
   ]
  },
  {
   "cell_type": "code",
   "execution_count": 169,
   "metadata": {},
   "outputs": [],
   "source": [
    "def sigmoid(z):\n",
    "    return 1.0/(1.0+np.exp(-z))\n",
    "\n",
    "def sigmoid_prime(z):\n",
    "    return sigmoid(z)*(1-sigmoid(z))"
   ]
  },
  {
   "cell_type": "markdown",
   "metadata": {},
   "source": [
    "#### Feed Forward Neural Network class\n",
    "\n",
    "Learning method: stochastic gradient descent (randomly selected mini batches)\n",
    "<br>\n",
    "Accuracy evaluation - on the ``10 000`` size test set.\n",
    "<br>\n",
    "Constructor allows different combinations of topologies for the hidden layers."
   ]
  },
  {
   "cell_type": "code",
   "execution_count": 170,
   "metadata": {},
   "outputs": [],
   "source": [
    "class Network:\n",
    "\n",
    "    def __init__(self, sizes):\n",
    "        self.num_layers = len(sizes)\n",
    "        self.sizes = sizes\n",
    "        self.biases = []\n",
    "        for y in sizes[1:]:\n",
    "            self.biases.append(np.random.randn(y, 1))\n",
    "            #[30][1]  [10][1]\n",
    "\n",
    "        self.weights = []\n",
    "        for x, y in zip(sizes[:-1], sizes[1:]):\n",
    "            self.weights.append(np.random.randn(y, x))\n",
    "            #[784][30]  [30][10]\n",
    "\n",
    "        # self.biases = [np.random.randn(y, 1) for y in sizes[1:]]\n",
    "        # self.weights = [np.random.randn(y, x)\n",
    "        #                 for x, y in zip(sizes[:-1], sizes[1:])]\n",
    "\n",
    "    def feed_forward(self, a):\n",
    "        for b, w in zip(self.biases, self.weights):\n",
    "            a = sigmoid(np.dot(w, a)+b)\n",
    "        return a\n",
    "\n",
    "    def stochastic_gradient_descent(self, training_data, epochs, mini_batch_size, eta, test_data=None):\n",
    "        results = []\n",
    "        if test_data:\n",
    "            n_test = len(test_data)\n",
    "\n",
    "        n = len(training_data)\n",
    "\n",
    "        for j in range(epochs):\n",
    "            random.shuffle(training_data)\n",
    "\n",
    "            mini_batches = []\n",
    "            for k in range(0, n, mini_batch_size):\n",
    "                mini_batches.append(training_data[k:k + mini_batch_size])\n",
    "\n",
    "            for mini_batch in mini_batches:\n",
    "                self.update_mini_batch(mini_batch, eta)\n",
    "\n",
    "            evaluation = self.evaluate(test_data)\n",
    "            \n",
    "            if test_data:\n",
    "                print(\"Epoch {0} completed. Accuracy: {1} %\".format(j, str(evaluation/100)))\n",
    "                results.append(str(evaluation/100) + \" %\")\n",
    "            else:\n",
    "                print(\"Epoch {0} complete\".format(j))\n",
    "                \n",
    "        return results\n",
    "\n",
    "    def update_mini_batch(self, mini_batch, eta):\n",
    "        nabla_b = [np.zeros(b.shape) for b in self.biases]\n",
    "        nabla_w = [np.zeros(w.shape) for w in self.weights]\n",
    "        for x, y in mini_batch:\n",
    "            delta_nabla_b, delta_nabla_w = self.back_propagation(x, y)\n",
    "            nabla_b = [nb + dnb for nb, dnb in zip(nabla_b, delta_nabla_b)]\n",
    "            nabla_w = [nw + dnw for nw, dnw in zip(nabla_w, delta_nabla_w)]\n",
    "        self.weights = [w - (eta / len(mini_batch)) * nw\n",
    "                        for w, nw in zip(self.weights, nabla_w)]\n",
    "        self.biases = [b - (eta / len(mini_batch)) * nb\n",
    "                       for b, nb in zip(self.biases, nabla_b)]\n",
    "\n",
    "    def back_propagation(self, x, y):\n",
    "        nabla_b = [np.zeros(b.shape) for b in self.biases]\n",
    "        nabla_w = [np.zeros(w.shape) for w in self.weights]\n",
    "        \n",
    "        activation = x\n",
    "        activations = [x]\n",
    "        zs = [] \n",
    "        for b, w in zip(self.biases, self.weights):\n",
    "            z = np.dot(w, activation) + b\n",
    "            zs.append(z)\n",
    "            activation = sigmoid(z)\n",
    "            activations.append(activation)\n",
    "        delta = self.cost_derivative(activations[-1], y) * \\\n",
    "                sigmoid_prime(zs[-1])\n",
    "        \n",
    "        nabla_b[-1] = delta\n",
    "        nabla_w[-1] = np.dot(delta, activations[-2].transpose())\n",
    "        for l in range(2, self.num_layers):\n",
    "            z = zs[-l]\n",
    "            sp = sigmoid_prime(z)\n",
    "            delta = np.dot(self.weights[-l + 1].transpose(), delta) * sp\n",
    "            nabla_b[-l] = delta\n",
    "            nabla_w[-l] = np.dot(delta, activations[-l - 1].transpose())\n",
    "        return (nabla_b, nabla_w)\n",
    "\n",
    "    def evaluate(self, test_data):\n",
    "        # test_results = []\n",
    "        # for (x, y) in test_data:\n",
    "        #     test_results.append(np.argmax(self.feed_forward(x)), y)\n",
    "        \n",
    "        test_results = [(np.argmax(self.feed_forward(x)), y) for (x, y) in test_data]\n",
    "        return sum(int(x == y) for (x, y) in test_results)\n",
    "\n",
    "    def cost_derivative(self, output_activations, y):\n",
    "        return (output_activations - y)\n"
   ]
  },
  {
   "cell_type": "markdown",
   "metadata": {},
   "source": [
    "At the moment for testing the effectiveness of feed forward neural network I am using 2 topologies on the 5 epochs.\n",
    "<br>\n",
    "Each topology will have input layer contains 784 neurons(1 neuron for each \"pixel\").\n",
    "<br>\n",
    "Each topology will have output layer contains 10 neurons(1 neuron for each digit).\n",
    "\n",
    "First topology:\n",
    "- ``input layer: 784 neurons``\n",
    "- ``hidden layer: 15 neurons``\n",
    "- ``output layer: 10 neurons``\n",
    "    \n",
    "Second topology:\n",
    "- ``input layer: 784 neurons``\n",
    "- ``hidden layer: 30 neurons``\n",
    "- ``output layer: 10 neurons``\n",
    "    "
   ]
  },
  {
   "cell_type": "code",
   "execution_count": 171,
   "metadata": {},
   "outputs": [
    {
     "name": "stdout",
     "output_type": "stream",
     "text": [
      "1st network\n",
      "Epoch 0 completed. Accuracy: 89.6 %\n",
      "Epoch 1 completed. Accuracy: 91.07 %\n",
      "Epoch 2 completed. Accuracy: 92.01 %\n",
      "Epoch 3 completed. Accuracy: 92.08 %\n",
      "Epoch 4 completed. Accuracy: 92.5 %\n",
      "2nd network\n",
      "Epoch 0 completed. Accuracy: 91.45 %\n",
      "Epoch 1 completed. Accuracy: 92.65 %\n",
      "Epoch 2 completed. Accuracy: 93.28 %\n",
      "Epoch 3 completed. Accuracy: 93.54 %\n",
      "Epoch 4 completed. Accuracy: 93.61 %\n"
     ]
    }
   ],
   "source": [
    "print(\"1st network\")\n",
    "net1 = Network([784, 15, 10])\n",
    "res1 = net1.stochastic_gradient_descent(training_data, 5, 10, 3.0, test_data=test_data)\n",
    "\n",
    "print(\"2nd network\")\n",
    "net2 = Network([784, 30, 10])\n",
    "res2 = net2.stochastic_gradient_descent(training_data, 5, 10, 3.0, test_data=test_data)\n",
    "\n",
    "# net3 = = Network([784, 25, 15, 10])\n",
    "# res2 = net2.stochastic_gradient_descent(training_data, 2, 10, 3.0, test_data=test_data)"
   ]
  },
  {
   "cell_type": "code",
   "execution_count": 172,
   "metadata": {},
   "outputs": [
    {
     "data": {
      "text/html": [
       "<div>\n",
       "<style scoped>\n",
       "    .dataframe tbody tr th:only-of-type {\n",
       "        vertical-align: middle;\n",
       "    }\n",
       "\n",
       "    .dataframe tbody tr th {\n",
       "        vertical-align: top;\n",
       "    }\n",
       "\n",
       "    .dataframe thead th {\n",
       "        text-align: right;\n",
       "    }\n",
       "</style>\n",
       "<table border=\"1\" class=\"dataframe\">\n",
       "  <thead>\n",
       "    <tr style=\"text-align: right;\">\n",
       "      <th></th>\n",
       "      <th>15 neurons in 1 hidden layer</th>\n",
       "      <th>30 neurons in 1 hidden layer</th>\n",
       "    </tr>\n",
       "  </thead>\n",
       "  <tbody>\n",
       "    <tr>\n",
       "      <th>0</th>\n",
       "      <td>89.6 %</td>\n",
       "      <td>91.45 %</td>\n",
       "    </tr>\n",
       "    <tr>\n",
       "      <th>1</th>\n",
       "      <td>91.07 %</td>\n",
       "      <td>92.65 %</td>\n",
       "    </tr>\n",
       "    <tr>\n",
       "      <th>2</th>\n",
       "      <td>92.01 %</td>\n",
       "      <td>93.28 %</td>\n",
       "    </tr>\n",
       "    <tr>\n",
       "      <th>3</th>\n",
       "      <td>92.08 %</td>\n",
       "      <td>93.54 %</td>\n",
       "    </tr>\n",
       "    <tr>\n",
       "      <th>4</th>\n",
       "      <td>92.5 %</td>\n",
       "      <td>93.61 %</td>\n",
       "    </tr>\n",
       "  </tbody>\n",
       "</table>\n",
       "</div>"
      ],
      "text/plain": [
       "  15 neurons in 1 hidden layer 30 neurons in 1 hidden layer\n",
       "0                       89.6 %                      91.45 %\n",
       "1                      91.07 %                      92.65 %\n",
       "2                      92.01 %                      93.28 %\n",
       "3                      92.08 %                      93.54 %\n",
       "4                       92.5 %                      93.61 %"
      ]
     },
     "execution_count": 172,
     "metadata": {},
     "output_type": "execute_result"
    }
   ],
   "source": [
    "df = pd.DataFrame(list(zip(res1, res2)), columns = [\"15 neurons in 1 hidden layer\", \"30 neurons in 1 hidden layer\"])\n",
    "df"
   ]
  }
 ],
 "metadata": {
  "kernelspec": {
   "display_name": "Python 3",
   "language": "python",
   "name": "python3"
  },
  "language_info": {
   "codemirror_mode": {
    "name": "ipython",
    "version": 3
   },
   "file_extension": ".py",
   "mimetype": "text/x-python",
   "name": "python",
   "nbconvert_exporter": "python",
   "pygments_lexer": "ipython3",
   "version": "3.8.5"
  }
 },
 "nbformat": 4,
 "nbformat_minor": 4
}
